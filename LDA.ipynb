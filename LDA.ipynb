{
 "cells": [
  {
   "cell_type": "markdown",
   "metadata": {
    "id": "zom6otqKAoXq"
   },
   "source": [
    "# **Import Libraries**"
   ]
  },
  {
   "cell_type": "code",
   "execution_count": 1,
   "metadata": {
    "id": "_oh0pET5Almx"
   },
   "outputs": [],
   "source": [
    "import numpy as np\n",
    "import pandas as pd\n",
    "import matplotlib.pyplot as plt\n",
    "import seaborn as sns\n",
    "from sklearn.datasets import load_iris\n",
    "from sklearn.model_selection import train_test_split\n",
    "from sklearn.discriminant_analysis import LinearDiscriminantAnalysis\n",
    "from sklearn.preprocessing import StandardScaler\n",
    "from sklearn.metrics import accuracy_score\n",
    "from LDA_SCRATCH import LDA_SCRATCH"
   ]
  },
  {
   "cell_type": "markdown",
   "metadata": {
    "id": "OjMC_R9ld7ps"
   },
   "source": [
    "# **Load iris Dataset**"
   ]
  },
  {
   "cell_type": "code",
   "execution_count": 2,
   "metadata": {
    "id": "WBJz_P-DDNDj"
   },
   "outputs": [],
   "source": [
    "X, y = load_iris(return_X_y=True, as_frame=True)"
   ]
  },
  {
   "cell_type": "code",
   "execution_count": 3,
   "metadata": {
    "colab": {
     "base_uri": "https://localhost:8080/"
    },
    "id": "_qkMr07gDZ5G",
    "outputId": "a5b08927-c9cd-4657-a256-d6745bdaee29"
   },
   "outputs": [
    {
     "data": {
      "text/plain": [
       "(150, 4)"
      ]
     },
     "execution_count": 3,
     "metadata": {},
     "output_type": "execute_result"
    }
   ],
   "source": [
    "X.shape"
   ]
  },
  {
   "cell_type": "code",
   "execution_count": 4,
   "metadata": {
    "colab": {
     "base_uri": "https://localhost:8080/",
     "height": 206
    },
    "id": "GHG2XSe6ZOOb",
    "outputId": "6609d9cf-2a6d-46d3-c1d0-1b280c6a6b24"
   },
   "outputs": [
    {
     "data": {
      "text/html": [
       "<div>\n",
       "<style scoped>\n",
       "    .dataframe tbody tr th:only-of-type {\n",
       "        vertical-align: middle;\n",
       "    }\n",
       "\n",
       "    .dataframe tbody tr th {\n",
       "        vertical-align: top;\n",
       "    }\n",
       "\n",
       "    .dataframe thead th {\n",
       "        text-align: right;\n",
       "    }\n",
       "</style>\n",
       "<table border=\"1\" class=\"dataframe\">\n",
       "  <thead>\n",
       "    <tr style=\"text-align: right;\">\n",
       "      <th></th>\n",
       "      <th>sepal length (cm)</th>\n",
       "      <th>sepal width (cm)</th>\n",
       "      <th>petal length (cm)</th>\n",
       "      <th>petal width (cm)</th>\n",
       "    </tr>\n",
       "  </thead>\n",
       "  <tbody>\n",
       "    <tr>\n",
       "      <th>0</th>\n",
       "      <td>5.1</td>\n",
       "      <td>3.5</td>\n",
       "      <td>1.4</td>\n",
       "      <td>0.2</td>\n",
       "    </tr>\n",
       "    <tr>\n",
       "      <th>1</th>\n",
       "      <td>4.9</td>\n",
       "      <td>3.0</td>\n",
       "      <td>1.4</td>\n",
       "      <td>0.2</td>\n",
       "    </tr>\n",
       "    <tr>\n",
       "      <th>2</th>\n",
       "      <td>4.7</td>\n",
       "      <td>3.2</td>\n",
       "      <td>1.3</td>\n",
       "      <td>0.2</td>\n",
       "    </tr>\n",
       "    <tr>\n",
       "      <th>3</th>\n",
       "      <td>4.6</td>\n",
       "      <td>3.1</td>\n",
       "      <td>1.5</td>\n",
       "      <td>0.2</td>\n",
       "    </tr>\n",
       "    <tr>\n",
       "      <th>4</th>\n",
       "      <td>5.0</td>\n",
       "      <td>3.6</td>\n",
       "      <td>1.4</td>\n",
       "      <td>0.2</td>\n",
       "    </tr>\n",
       "  </tbody>\n",
       "</table>\n",
       "</div>"
      ],
      "text/plain": [
       "   sepal length (cm)  sepal width (cm)  petal length (cm)  petal width (cm)\n",
       "0                5.1               3.5                1.4               0.2\n",
       "1                4.9               3.0                1.4               0.2\n",
       "2                4.7               3.2                1.3               0.2\n",
       "3                4.6               3.1                1.5               0.2\n",
       "4                5.0               3.6                1.4               0.2"
      ]
     },
     "execution_count": 4,
     "metadata": {},
     "output_type": "execute_result"
    }
   ],
   "source": [
    "X.head()"
   ]
  },
  {
   "cell_type": "code",
   "execution_count": 5,
   "metadata": {
    "colab": {
     "base_uri": "https://localhost:8080/"
    },
    "id": "g4OXx8u3ZQzV",
    "outputId": "074a95e0-ac96-4832-f183-aad9fb609a85"
   },
   "outputs": [
    {
     "data": {
      "text/plain": [
       "(150,)"
      ]
     },
     "execution_count": 5,
     "metadata": {},
     "output_type": "execute_result"
    }
   ],
   "source": [
    "y.shape"
   ]
  },
  {
   "cell_type": "code",
   "execution_count": 6,
   "metadata": {
    "colab": {
     "base_uri": "https://localhost:8080/"
    },
    "id": "MSpRGmQmDcI7",
    "outputId": "23aac8e5-645e-4d94-b296-7347f8750f0c"
   },
   "outputs": [
    {
     "data": {
      "text/plain": [
       "0    0\n",
       "1    0\n",
       "2    0\n",
       "3    0\n",
       "4    0\n",
       "Name: target, dtype: int64"
      ]
     },
     "execution_count": 6,
     "metadata": {},
     "output_type": "execute_result"
    }
   ],
   "source": [
    "y.head()"
   ]
  },
  {
   "cell_type": "markdown",
   "metadata": {
    "id": "_28mw12ueLCB"
   },
   "source": [
    "# **Standardization**"
   ]
  },
  {
   "cell_type": "code",
   "execution_count": 7,
   "metadata": {
    "id": "JSty9TBPDi6t"
   },
   "outputs": [],
   "source": [
    "# sc = StandardScaler()\n",
    "# x_std = sc.fit_transform(X)"
   ]
  },
  {
   "cell_type": "markdown",
   "metadata": {
    "id": "lGs33P5DeFnZ"
   },
   "source": [
    "# **Split Dataset**"
   ]
  },
  {
   "cell_type": "code",
   "execution_count": 8,
   "metadata": {
    "id": "LYlCuy4YYxIp"
   },
   "outputs": [],
   "source": [
    "# X_train, X_test, y_train, y_test = train_test_split(X, y, test_size=0.15, random_state=10)\n",
    "X_train, X_test, y_train, y_test = train_test_split(X, y, test_size=0.15, random_state=0, stratify=y)\n",
    "# X_train, X_test, y_train, y_test = train_test_split(X, y, test_size=0.15, shuffle=False)"
   ]
  },
  {
   "cell_type": "code",
   "execution_count": 9,
   "metadata": {
    "colab": {
     "base_uri": "https://localhost:8080/"
    },
    "id": "Uzb7ndbea8jz",
    "outputId": "9241c069-ab2e-4a3c-8f8f-ff3b4eea4c2c"
   },
   "outputs": [
    {
     "name": "stdout",
     "output_type": "stream",
     "text": [
      "X_train.shape:  (127, 4)\n",
      "y_train.shape:  (127,)\n",
      "X_test.shape:  (23, 4)\n",
      "y_test.shape:  (23,)\n"
     ]
    }
   ],
   "source": [
    "print(\"X_train.shape: \", X_train.shape)\n",
    "print(\"y_train.shape: \", y_train.shape)\n",
    "print(\"X_test.shape: \", X_test.shape)\n",
    "print(\"y_test.shape: \", y_test.shape)"
   ]
  },
  {
   "cell_type": "markdown",
   "metadata": {
    "id": "nH4W5tWjDDIo"
   },
   "source": [
    "# **LDA 4 Features**"
   ]
  },
  {
   "cell_type": "markdown",
   "metadata": {
    "id": "Ysni8nP2DXgu"
   },
   "source": [
    "##### **Built-in LDA**"
   ]
  },
  {
   "cell_type": "code",
   "execution_count": 10,
   "metadata": {
    "colab": {
     "base_uri": "https://localhost:8080/"
    },
    "id": "7IwAWz4YDLJA",
    "outputId": "531b528e-e703-4458-da3c-5abd89df434a"
   },
   "outputs": [
    {
     "data": {
      "text/plain": [
       "LinearDiscriminantAnalysis()"
      ]
     },
     "execution_count": 10,
     "metadata": {},
     "output_type": "execute_result"
    }
   ],
   "source": [
    "LDA = LinearDiscriminantAnalysis()\n",
    "LDA.fit(X_train, y_train)"
   ]
  },
  {
   "cell_type": "code",
   "execution_count": 11,
   "metadata": {
    "id": "OQpeimwLDWT1"
   },
   "outputs": [],
   "source": [
    "predictions = LDA.predict(X_test)"
   ]
  },
  {
   "cell_type": "code",
   "execution_count": 12,
   "metadata": {
    "colab": {
     "base_uri": "https://localhost:8080/"
    },
    "id": "NAoy3AqZDdot",
    "outputId": "f8364c0b-639a-4551-ebcf-c21a2478f09a"
   },
   "outputs": [
    {
     "data": {
      "text/plain": [
       "0.9763779527559056"
      ]
     },
     "execution_count": 12,
     "metadata": {},
     "output_type": "execute_result"
    }
   ],
   "source": [
    "LDA.score(X_train, y_train)"
   ]
  },
  {
   "cell_type": "code",
   "execution_count": 13,
   "metadata": {
    "colab": {
     "base_uri": "https://localhost:8080/"
    },
    "id": "i7o3WQrgDdsL",
    "outputId": "b302462a-2dd4-40fa-eb24-781e7c399a4d"
   },
   "outputs": [
    {
     "name": "stdout",
     "output_type": "stream",
     "text": [
      "Accuracy Score = 100.0 %\n"
     ]
    }
   ],
   "source": [
    "accuracy = accuracy_score(y_test, predictions)\n",
    "print('Accuracy Score =', accuracy * 100, '%')"
   ]
  },
  {
   "cell_type": "markdown",
   "metadata": {
    "id": "l7ajiVOPDuuT"
   },
   "source": [
    "##### **LDA from scratch**"
   ]
  },
  {
   "cell_type": "code",
   "execution_count": 14,
   "metadata": {
    "id": "cCghMdyHDuuU"
   },
   "outputs": [],
   "source": [
    "lda = LDA_SCRATCH()\n",
    "X_train_df = pd.DataFrame(X_train)\n",
    "lda.fit(X_train_df, y_train)"
   ]
  },
  {
   "cell_type": "code",
   "execution_count": 15,
   "metadata": {
    "colab": {
     "base_uri": "https://localhost:8080/"
    },
    "id": "48eOVIhpDuuU",
    "outputId": "be5a4639-18c9-43cc-d40d-afabe261393a"
   },
   "outputs": [
    {
     "data": {
      "text/plain": [
       "array([[1, 0, 0],\n",
       "       [0, 0, 0],\n",
       "       [0, 1, 0],\n",
       "       [0, 0, 0],\n",
       "       [1, 0, 0],\n",
       "       [1, 0, 0],\n",
       "       [0, 0, 1],\n",
       "       [0, 0, 0],\n",
       "       [0, 1, 0],\n",
       "       [1, 0, 0],\n",
       "       [1, 0, 0],\n",
       "       [0, 0, 1],\n",
       "       [1, 0, 0],\n",
       "       [0, 1, 0],\n",
       "       [0, 0, 0],\n",
       "       [0, 0, 0],\n",
       "       [0, 0, 1],\n",
       "       [0, 1, 1],\n",
       "       [0, 1, 0],\n",
       "       [0, 0, 1],\n",
       "       [1, 0, 0],\n",
       "       [1, 0, 0],\n",
       "       [0, 1, 0]])"
      ]
     },
     "execution_count": 15,
     "metadata": {},
     "output_type": "execute_result"
    }
   ],
   "source": [
    "y_pred = lda.predict(X_test)\n",
    "y_pred"
   ]
  },
  {
   "cell_type": "code",
   "execution_count": 16,
   "metadata": {
    "colab": {
     "base_uri": "https://localhost:8080/"
    },
    "id": "goemEjfgDuuU",
    "outputId": "f6324b04-b84a-4086-874c-2144c3382895"
   },
   "outputs": [
    {
     "data": {
      "text/plain": [
       "(23, 3)"
      ]
     },
     "execution_count": 16,
     "metadata": {},
     "output_type": "execute_result"
    }
   ],
   "source": [
    "y_pred.shape"
   ]
  },
  {
   "cell_type": "code",
   "execution_count": 17,
   "metadata": {
    "colab": {
     "base_uri": "https://localhost:8080/"
    },
    "id": "fc5o1nH6DuuV",
    "outputId": "f01db564-e358-428e-8b8a-7cb6c4c2873e"
   },
   "outputs": [
    {
     "name": "stdout",
     "output_type": "stream",
     "text": [
      "[5.5 3.5 1.3 0.2] Classified Correctly\n",
      "[6.7 3.1 4.4 1.4] New classification\n",
      "[5.8 2.7 4.1 1. ] Classified Correctly\n",
      "[6.7 3.1 4.7 1.5] New classification\n",
      "[4.9 3.1 1.5 0.1] Classified Correctly\n",
      "[5.1 3.4 1.5 0.2] Classified Correctly\n",
      "[5.8 2.7 5.1 1.9] Classified Correctly\n",
      "[5.7 2.8 4.1 1.3] New classification\n",
      "[5.5 2.6 4.4 1.2] Classified Correctly\n",
      "[5.1 3.7 1.5 0.4] Classified Correctly\n",
      "[4.6 3.1 1.5 0.2] Classified Correctly\n",
      "[6.5 3.  5.2 2. ] Classified Correctly\n",
      "[5.1 3.5 1.4 0.2] Classified Correctly\n",
      "[7.2 3.  5.8 1.6] Classified Wrong\n",
      "[5.6 3.  4.1 1.3] New classification\n",
      "[7.  3.2 4.7 1.4] New classification\n",
      "[6.3 3.4 5.6 2.4] Classified Correctly\n",
      "[6.3 2.9 5.6 1.8] Undetermined Class\n",
      "[5.7 2.8 4.5 1.3] Classified Correctly\n",
      "[6.3 3.3 6.  2.5] Classified Correctly\n",
      "[5.3 3.7 1.5 0.2] Classified Correctly\n",
      "[5.1 3.8 1.5 0.3] Classified Correctly\n",
      "[6.1 2.6 5.6 1.4] Classified Wrong\n"
     ]
    }
   ],
   "source": [
    "accuracy, stats = lda.score(y_test, y_pred)\n",
    "X_test_df = pd.DataFrame(X_test)\n",
    "for sample, stat in zip(X_test_df.values, stats):\n",
    "    print(sample, stat)"
   ]
  },
  {
   "cell_type": "code",
   "execution_count": 18,
   "metadata": {
    "colab": {
     "base_uri": "https://localhost:8080/"
    },
    "id": "q2hgerteDuuV",
    "outputId": "e95e0aa3-e52a-4e30-fdd3-41ee52ac5fbf"
   },
   "outputs": [
    {
     "name": "stdout",
     "output_type": "stream",
     "text": [
      "Accuracy Score =  91.30434782608697 %\n"
     ]
    }
   ],
   "source": [
    "print('Accuracy Score = ', accuracy, '%')"
   ]
  },
  {
   "cell_type": "markdown",
   "metadata": {
    "id": "hbg0YOR9eT8x"
   },
   "source": [
    "# **LDA 2 Features**"
   ]
  },
  {
   "cell_type": "markdown",
   "metadata": {
    "id": "SYyaRnoLBAkO"
   },
   "source": [
    "##### **LDA Dimensionality Reduction**"
   ]
  },
  {
   "cell_type": "code",
   "execution_count": 19,
   "metadata": {
    "id": "jdXhcZ9PKJW1"
   },
   "outputs": [],
   "source": [
    "LDA = LinearDiscriminantAnalysis(n_components=2)\n",
    "x_lda = LDA.fit_transform(X, y)"
   ]
  },
  {
   "cell_type": "code",
   "execution_count": 20,
   "metadata": {
    "colab": {
     "base_uri": "https://localhost:8080/"
    },
    "id": "sDL0VFPS1WNX",
    "outputId": "edfea4f4-66c4-47d1-f7e9-ebf990c08fdb"
   },
   "outputs": [
    {
     "name": "stdout",
     "output_type": "stream",
     "text": [
      "X_LDA.shape:  (150, 2)\n"
     ]
    }
   ],
   "source": [
    "print(\"X_LDA.shape: \", x_lda.shape)"
   ]
  },
  {
   "cell_type": "markdown",
   "metadata": {
    "id": "p6lRFWGAG5lW"
   },
   "source": [
    "##### **Split Dataset**"
   ]
  },
  {
   "cell_type": "code",
   "execution_count": 21,
   "metadata": {
    "id": "uOiFJxCqG5lX"
   },
   "outputs": [],
   "source": [
    "X_train_lda, X_test_lda, y_train_lda, y_test_lda = train_test_split(x_lda, y, test_size=0.15, random_state=0, stratify=y)"
   ]
  },
  {
   "cell_type": "code",
   "execution_count": 22,
   "metadata": {
    "colab": {
     "base_uri": "https://localhost:8080/"
    },
    "id": "K9zF1XzaG5lY",
    "outputId": "d18e1b67-15c5-491d-fee3-b145e5893700"
   },
   "outputs": [
    {
     "name": "stdout",
     "output_type": "stream",
     "text": [
      "X_train_LDA.shape:  (127, 2)\n",
      "y_train_LDA.shape:  (127,)\n",
      "X_test_LDA.shape:  (23, 2)\n",
      "y_test_LDA.shape:  (23,)\n"
     ]
    }
   ],
   "source": [
    "print(\"X_train_LDA.shape: \", X_train_lda.shape)\n",
    "print(\"y_train_LDA.shape: \", y_train_lda.shape)\n",
    "print(\"X_test_LDA.shape: \", X_test_lda.shape)\n",
    "print(\"y_test_LDA.shape: \", y_test_lda.shape)"
   ]
  },
  {
   "cell_type": "markdown",
   "metadata": {
    "id": "OMPW2-rkBKIt"
   },
   "source": [
    "##### **Built-in LDA**"
   ]
  },
  {
   "cell_type": "code",
   "execution_count": 23,
   "metadata": {
    "colab": {
     "base_uri": "https://localhost:8080/"
    },
    "id": "OyyiiolUdPJm",
    "outputId": "492ccf3c-39a9-44d8-91e9-0811a35cfafb"
   },
   "outputs": [
    {
     "data": {
      "text/plain": [
       "LinearDiscriminantAnalysis(n_components=2)"
      ]
     },
     "execution_count": 23,
     "metadata": {},
     "output_type": "execute_result"
    }
   ],
   "source": [
    "LDA.fit(X_train_lda, y_train_lda)"
   ]
  },
  {
   "cell_type": "code",
   "execution_count": 24,
   "metadata": {
    "id": "z7ASIvziaz_A"
   },
   "outputs": [],
   "source": [
    "predictions = LDA.predict(X_test_lda)"
   ]
  },
  {
   "cell_type": "code",
   "execution_count": 25,
   "metadata": {
    "colab": {
     "base_uri": "https://localhost:8080/"
    },
    "id": "Zk0PpBej5gvv",
    "outputId": "b50f51c5-e04f-46d6-a3db-7eb69e2d8b80"
   },
   "outputs": [
    {
     "data": {
      "text/plain": [
       "0.9763779527559056"
      ]
     },
     "execution_count": 25,
     "metadata": {},
     "output_type": "execute_result"
    }
   ],
   "source": [
    "LDA.score(X_train_lda, y_train_lda)"
   ]
  },
  {
   "cell_type": "code",
   "execution_count": 26,
   "metadata": {
    "colab": {
     "base_uri": "https://localhost:8080/"
    },
    "id": "g4sFK8KCb_bE",
    "outputId": "12e1a9f6-501d-40f6-a70a-4db30541ecab"
   },
   "outputs": [
    {
     "name": "stdout",
     "output_type": "stream",
     "text": [
      "Accuracy Score = 100.0 %\n"
     ]
    }
   ],
   "source": [
    "accuracy = accuracy_score(y_test_lda, predictions)\n",
    "print('Accuracy Score =', accuracy * 100, '%')"
   ]
  },
  {
   "cell_type": "markdown",
   "metadata": {
    "id": "kfOyVOVVBY1L"
   },
   "source": [
    "##### **LDA from scratch**"
   ]
  },
  {
   "cell_type": "code",
   "execution_count": 27,
   "metadata": {
    "id": "AngFWdrLBY1N"
   },
   "outputs": [],
   "source": [
    "lda = LDA_SCRATCH()\n",
    "x_train_lda_df = pd.DataFrame(X_train_lda)\n",
    "lda.fit(x_train_lda_df, y_train_lda)"
   ]
  },
  {
   "cell_type": "code",
   "execution_count": 28,
   "metadata": {
    "colab": {
     "base_uri": "https://localhost:8080/"
    },
    "id": "go2Lo9RiBY1N",
    "outputId": "2043a4a5-6f17-42ad-d784-dd624a382238"
   },
   "outputs": [
    {
     "data": {
      "text/plain": [
       "array([[1, 0, 0],\n",
       "       [0, 0, 0],\n",
       "       [0, 1, 0],\n",
       "       [0, 0, 0],\n",
       "       [1, 0, 0],\n",
       "       [1, 0, 0],\n",
       "       [0, 0, 1],\n",
       "       [0, 0, 0],\n",
       "       [0, 1, 0],\n",
       "       [1, 0, 0],\n",
       "       [1, 0, 0],\n",
       "       [0, 0, 1],\n",
       "       [1, 0, 0],\n",
       "       [0, 1, 0],\n",
       "       [0, 0, 0],\n",
       "       [0, 0, 0],\n",
       "       [0, 0, 1],\n",
       "       [0, 1, 1],\n",
       "       [0, 1, 0],\n",
       "       [0, 0, 1],\n",
       "       [1, 0, 0],\n",
       "       [1, 0, 0],\n",
       "       [0, 1, 0]])"
      ]
     },
     "execution_count": 28,
     "metadata": {},
     "output_type": "execute_result"
    }
   ],
   "source": [
    "y_pred = lda.predict(X_test_lda)\n",
    "y_pred"
   ]
  },
  {
   "cell_type": "code",
   "execution_count": 29,
   "metadata": {
    "colab": {
     "base_uri": "https://localhost:8080/"
    },
    "id": "S4Ej-xskBY1N",
    "outputId": "28e73289-8c00-47f8-f181-29e03ba9f864"
   },
   "outputs": [
    {
     "data": {
      "text/plain": [
       "(23, 3)"
      ]
     },
     "execution_count": 29,
     "metadata": {},
     "output_type": "execute_result"
    }
   ],
   "source": [
    "y_pred.shape"
   ]
  },
  {
   "cell_type": "code",
   "execution_count": 30,
   "metadata": {
    "colab": {
     "base_uri": "https://localhost:8080/"
    },
    "id": "mcjzaw29BY1O",
    "outputId": "46dcc746-b1e1-4ce5-fa1c-486a1a70a179"
   },
   "outputs": [
    {
     "name": "stdout",
     "output_type": "stream",
     "text": [
      "[8.61367201 0.4032536 ] Classified Correctly\n",
      "[-1.20117255  0.08443736] New classification\n",
      "[-0.77685404 -1.65916185] Classified Correctly\n",
      "[-2.14258208  0.08877978] New classification\n",
      "[ 7.34305989 -0.94731921] Classified Correctly\n",
      "[ 7.68823131 -0.00922362] Classified Correctly\n",
      "[-5.50747997 -0.03581399] Classified Correctly\n",
      "[-1.54948259 -0.59336358] New classification\n",
      "[-2.4015702  -1.59458341] Classified Correctly\n",
      "[7.58648117 1.20797032] Classified Correctly\n",
      "[ 6.81320057 -0.67063107] Classified Correctly\n",
      "[-4.9677409   0.82114055] Classified Correctly\n",
      "[8.06179978 0.30042062] Classified Correctly\n",
      "[-4.58371942 -0.85681581] Classified Wrong\n",
      "[-1.32552574 -0.16286955] New classification\n",
      "[-1.45927545  0.02854376] New classification\n",
      "[-6.52449599  2.44503527] Classified Correctly\n",
      "[-5.60545633 -0.34073806] Undetermined Class\n",
      "[-2.42996725 -0.96613207] Classified Correctly\n",
      "[-7.83947399  2.13973345] Classified Correctly\n",
      "[8.31444876 0.64495318] Classified Correctly\n",
      "[8.02097451 1.14050366] Classified Correctly\n",
      "[-5.10748966 -2.13059   ] Classified Wrong\n"
     ]
    }
   ],
   "source": [
    "accuracy, stats = lda.score(y_test_lda, y_pred)\n",
    "for sample, stat in zip(X_test_lda, stats):\n",
    "    print(sample, stat)"
   ]
  },
  {
   "cell_type": "code",
   "execution_count": 31,
   "metadata": {
    "colab": {
     "base_uri": "https://localhost:8080/"
    },
    "id": "4SyKQTJsBY1O",
    "outputId": "e2b937e9-01ce-429f-c757-44df365cda3b"
   },
   "outputs": [
    {
     "name": "stdout",
     "output_type": "stream",
     "text": [
      "Accuracy Score =  91.30434782608697 %\n"
     ]
    }
   ],
   "source": [
    "print('Accuracy Score = ', accuracy, '%')"
   ]
  },
  {
   "cell_type": "markdown",
   "metadata": {
    "id": "xol7pOsyIUx7"
   },
   "source": [
    "##### **Visualization**"
   ]
  },
  {
   "cell_type": "code",
   "execution_count": 32,
   "metadata": {
    "colab": {
     "base_uri": "https://localhost:8080/",
     "height": 206
    },
    "id": "RAg1JYyEIUx8",
    "outputId": "39a2806e-b38b-4bae-a82e-7a167591f3f5"
   },
   "outputs": [
    {
     "data": {
      "text/html": [
       "<div>\n",
       "<style scoped>\n",
       "    .dataframe tbody tr th:only-of-type {\n",
       "        vertical-align: middle;\n",
       "    }\n",
       "\n",
       "    .dataframe tbody tr th {\n",
       "        vertical-align: top;\n",
       "    }\n",
       "\n",
       "    .dataframe thead th {\n",
       "        text-align: right;\n",
       "    }\n",
       "</style>\n",
       "<table border=\"1\" class=\"dataframe\">\n",
       "  <thead>\n",
       "    <tr style=\"text-align: right;\">\n",
       "      <th></th>\n",
       "      <th>LD1</th>\n",
       "      <th>LD2</th>\n",
       "      <th>class</th>\n",
       "    </tr>\n",
       "  </thead>\n",
       "  <tbody>\n",
       "    <tr>\n",
       "      <th>0</th>\n",
       "      <td>8.061800</td>\n",
       "      <td>0.300421</td>\n",
       "      <td>0</td>\n",
       "    </tr>\n",
       "    <tr>\n",
       "      <th>1</th>\n",
       "      <td>7.128688</td>\n",
       "      <td>-0.786660</td>\n",
       "      <td>0</td>\n",
       "    </tr>\n",
       "    <tr>\n",
       "      <th>2</th>\n",
       "      <td>7.489828</td>\n",
       "      <td>-0.265384</td>\n",
       "      <td>0</td>\n",
       "    </tr>\n",
       "    <tr>\n",
       "      <th>3</th>\n",
       "      <td>6.813201</td>\n",
       "      <td>-0.670631</td>\n",
       "      <td>0</td>\n",
       "    </tr>\n",
       "    <tr>\n",
       "      <th>4</th>\n",
       "      <td>8.132309</td>\n",
       "      <td>0.514463</td>\n",
       "      <td>0</td>\n",
       "    </tr>\n",
       "  </tbody>\n",
       "</table>\n",
       "</div>"
      ],
      "text/plain": [
       "        LD1       LD2  class\n",
       "0  8.061800  0.300421      0\n",
       "1  7.128688 -0.786660      0\n",
       "2  7.489828 -0.265384      0\n",
       "3  6.813201 -0.670631      0\n",
       "4  8.132309  0.514463      0"
      ]
     },
     "execution_count": 32,
     "metadata": {},
     "output_type": "execute_result"
    }
   ],
   "source": [
    "data=pd.DataFrame(x_lda)\n",
    "data['class']=y\n",
    "data.columns=[\"LD1\",\"LD2\",\"class\"]\n",
    "data.head()"
   ]
  },
  {
   "cell_type": "code",
   "execution_count": 33,
   "metadata": {
    "colab": {
     "base_uri": "https://localhost:8080/",
     "height": 369
    },
    "id": "3mj-etFmIUx8",
    "outputId": "5a58502a-8b23-4087-a92c-f2305a268c22"
   },
   "outputs": [
    {
     "data": {
      "image/png": "[encoded data removed]",
      "text/plain": [
       "<Figure size 360x360 with 1 Axes>"
      ]
     },
     "metadata": {
      "needs_background": "light"
     },
     "output_type": "display_data"
    }
   ],
   "source": [
    "# markers = ['s', 'x','o']\n",
    "colors = ['r', 'g','b']\n",
    "sns.lmplot(x=\"LD1\", y=\"LD2\", data=data, hue='class',fit_reg=False,legend=False, palette=colors)\n",
    "plt.legend(labels=[\"setosa,\",\"versicolor\", \"virginica\"], loc='upper center')\n",
    "plt.show()"
   ]
  },
  {
   "cell_type": "markdown",
   "metadata": {
    "id": "HYRpWV1jGgQN"
   },
   "source": [
    "# **LDA 1 Feature**"
   ]
  },
  {
   "cell_type": "markdown",
   "metadata": {
    "id": "6pIs8QQYGgQN"
   },
   "source": [
    "##### **LDA Dimensionality Reduction**"
   ]
  },
  {
   "cell_type": "code",
   "execution_count": 34,
   "metadata": {
    "id": "c2YRwj6SGgQO"
   },
   "outputs": [],
   "source": [
    "LDA = LinearDiscriminantAnalysis(n_components=1)\n",
    "x_lda = LDA.fit_transform(X, y)"
   ]
  },
  {
   "cell_type": "code",
   "execution_count": 35,
   "metadata": {
    "colab": {
     "base_uri": "https://localhost:8080/"
    },
    "id": "uV5VctdbGgQO",
    "outputId": "406251ad-f4b9-4916-d966-e535a096f0ec"
   },
   "outputs": [
    {
     "name": "stdout",
     "output_type": "stream",
     "text": [
      "X_LDA.shape:  (150, 1)\n"
     ]
    }
   ],
   "source": [
    "print(\"X_LDA.shape: \", x_lda.shape)"
   ]
  },
  {
   "cell_type": "markdown",
   "metadata": {
    "id": "aoPOJA6MGgQO"
   },
   "source": [
    "##### **Split Dataset**"
   ]
  },
  {
   "cell_type": "code",
   "execution_count": 36,
   "metadata": {
    "id": "XDSnNJtdGgQO"
   },
   "outputs": [],
   "source": [
    "X_train_lda, X_test_lda, y_train_lda, y_test_lda = train_test_split(x_lda, y, test_size=0.15, random_state=0, stratify=y)"
   ]
  },
  {
   "cell_type": "code",
   "execution_count": 37,
   "metadata": {
    "colab": {
     "base_uri": "https://localhost:8080/"
    },
    "id": "klROc2KAGgQO",
    "outputId": "1958610d-6633-4795-f1b9-e181aed2b073"
   },
   "outputs": [
    {
     "name": "stdout",
     "output_type": "stream",
     "text": [
      "X_train_LDA.shape:  (127, 1)\n",
      "y_train_LDA.shape:  (127,)\n",
      "X_test_LDA.shape:  (23, 1)\n",
      "y_test_LDA.shape:  (23,)\n"
     ]
    }
   ],
   "source": [
    "print(\"X_train_LDA.shape: \", X_train_lda.shape)\n",
    "print(\"y_train_LDA.shape: \", y_train_lda.shape)\n",
    "print(\"X_test_LDA.shape: \", X_test_lda.shape)\n",
    "print(\"y_test_LDA.shape: \", y_test_lda.shape)"
   ]
  },
  {
   "cell_type": "markdown",
   "metadata": {
    "id": "p9Y7zp2RGgQP"
   },
   "source": [
    "##### **Built-in LDA**"
   ]
  },
  {
   "cell_type": "code",
   "execution_count": 38,
   "metadata": {
    "colab": {
     "base_uri": "https://localhost:8080/"
    },
    "id": "Mlb-v34PGgQP",
    "outputId": "c2a34da0-1b82-46ad-feeb-73eb379f3399"
   },
   "outputs": [
    {
     "data": {
      "text/plain": [
       "LinearDiscriminantAnalysis(n_components=1)"
      ]
     },
     "execution_count": 38,
     "metadata": {},
     "output_type": "execute_result"
    }
   ],
   "source": [
    "LDA.fit(X_train_lda, y_train_lda)"
   ]
  },
  {
   "cell_type": "code",
   "execution_count": 39,
   "metadata": {
    "id": "3-o_kGKYGgQP"
   },
   "outputs": [],
   "source": [
    "predictions = LDA.predict(X_test_lda)"
   ]
  },
  {
   "cell_type": "code",
   "execution_count": 40,
   "metadata": {
    "colab": {
     "base_uri": "https://localhost:8080/"
    },
    "id": "-ABdIxRmGgQP",
    "outputId": "56e77a49-51d0-4e78-8a1f-62dfbe289509"
   },
   "outputs": [
    {
     "data": {
      "text/plain": [
       "0.9763779527559056"
      ]
     },
     "execution_count": 40,
     "metadata": {},
     "output_type": "execute_result"
    }
   ],
   "source": [
    "LDA.score(X_train_lda, y_train_lda)"
   ]
  },
  {
   "cell_type": "code",
   "execution_count": 41,
   "metadata": {
    "colab": {
     "base_uri": "https://localhost:8080/"
    },
    "id": "r2b_pAfUGgQP",
    "outputId": "c18fb8ad-3d64-4adb-a963-cf5908c95bba"
   },
   "outputs": [
    {
     "name": "stdout",
     "output_type": "stream",
     "text": [
      "Accuracy Score = 100.0 %\n"
     ]
    }
   ],
   "source": [
    "accuracy = accuracy_score(y_test_lda, predictions)\n",
    "print('Accuracy Score =', accuracy * 100, '%')"
   ]
  },
  {
   "cell_type": "markdown",
   "metadata": {
    "id": "CcfXdp6jGgQQ"
   },
   "source": [
    "##### **LDA from scratch**"
   ]
  },
  {
   "cell_type": "code",
   "execution_count": 42,
   "metadata": {
    "id": "uuKQub25GgQQ"
   },
   "outputs": [],
   "source": [
    "lda = LDA_SCRATCH()\n",
    "x_train_lda_df = pd.DataFrame(X_train_lda)\n",
    "lda.fit(x_train_lda_df, y_train_lda)"
   ]
  },
  {
   "cell_type": "code",
   "execution_count": 43,
   "metadata": {
    "colab": {
     "base_uri": "https://localhost:8080/"
    },
    "id": "jPnmjJ71GgQQ",
    "outputId": "a154c1c3-2a29-44b9-c0c5-cc156354e707"
   },
   "outputs": [
    {
     "data": {
      "text/plain": [
       "array([[1, 0, 0],\n",
       "       [0, 0, 0],\n",
       "       [0, 0, 0],\n",
       "       [0, 0, 0],\n",
       "       [1, 0, 0],\n",
       "       [1, 0, 0],\n",
       "       [0, 0, 1],\n",
       "       [0, 0, 0],\n",
       "       [0, 0, 0],\n",
       "       [1, 0, 0],\n",
       "       [1, 0, 0],\n",
       "       [0, 0, 1],\n",
       "       [1, 0, 0],\n",
       "       [0, 0, 1],\n",
       "       [0, 0, 0],\n",
       "       [0, 0, 0],\n",
       "       [0, 0, 1],\n",
       "       [0, 0, 1],\n",
       "       [0, 0, 0],\n",
       "       [0, 0, 1],\n",
       "       [1, 0, 0],\n",
       "       [1, 0, 0],\n",
       "       [0, 0, 1]])"
      ]
     },
     "execution_count": 43,
     "metadata": {},
     "output_type": "execute_result"
    }
   ],
   "source": [
    "y_pred = lda.predict(X_test_lda)\n",
    "y_pred"
   ]
  },
  {
   "cell_type": "code",
   "execution_count": 44,
   "metadata": {
    "colab": {
     "base_uri": "https://localhost:8080/"
    },
    "id": "IGuQx0yIGgQQ",
    "outputId": "10b2b968-6ab6-477e-9bab-d0bb05896395"
   },
   "outputs": [
    {
     "data": {
      "text/plain": [
       "(23, 3)"
      ]
     },
     "execution_count": 44,
     "metadata": {},
     "output_type": "execute_result"
    }
   ],
   "source": [
    "y_pred.shape"
   ]
  },
  {
   "cell_type": "code",
   "execution_count": 45,
   "metadata": {
    "colab": {
     "base_uri": "https://localhost:8080/"
    },
    "id": "gEqptfg1GgQQ",
    "outputId": "8cf78aee-588f-4a37-b7b7-e675923f6b3d"
   },
   "outputs": [
    {
     "name": "stdout",
     "output_type": "stream",
     "text": [
      "[8.61367201] Classified Correctly\n",
      "[-1.20117255] New classification\n",
      "[-0.77685404] New classification\n",
      "[-2.14258208] New classification\n",
      "[7.34305989] Classified Correctly\n",
      "[7.68823131] Classified Correctly\n",
      "[-5.50747997] Classified Correctly\n",
      "[-1.54948259] New classification\n",
      "[-2.4015702] New classification\n",
      "[7.58648117] Classified Correctly\n",
      "[6.81320057] Classified Correctly\n",
      "[-4.9677409] Classified Correctly\n",
      "[8.06179978] Classified Correctly\n",
      "[-4.58371942] Classified Correctly\n",
      "[-1.32552574] New classification\n",
      "[-1.45927545] New classification\n",
      "[-6.52449599] Classified Correctly\n",
      "[-5.60545633] Classified Correctly\n",
      "[-2.42996725] New classification\n",
      "[-7.83947399] Classified Correctly\n",
      "[8.31444876] Classified Correctly\n",
      "[8.02097451] Classified Correctly\n",
      "[-5.10748966] Classified Correctly\n"
     ]
    }
   ],
   "source": [
    "accuracy, stats = lda.score(y_test_lda, y_pred)\n",
    "# X_test_df = pd.DataFrame(X_test)\n",
    "for sample, stat in zip(X_test_lda, stats):\n",
    "    print(sample, stat)"
   ]
  },
  {
   "cell_type": "code",
   "execution_count": 46,
   "metadata": {
    "colab": {
     "base_uri": "https://localhost:8080/"
    },
    "id": "vCQu76kqGgQQ",
    "outputId": "eb493b2d-48de-4e20-d8f0-1827c171bb97"
   },
   "outputs": [
    {
     "name": "stdout",
     "output_type": "stream",
     "text": [
      "Accuracy Score =  100.0 %\n"
     ]
    }
   ],
   "source": [
    "print('Accuracy Score = ', accuracy, '%')"
   ]
  },
  {
   "cell_type": "markdown",
   "metadata": {
    "id": "fv2jN2dyGgQR"
   },
   "source": [
    "##### **Visualization**"
   ]
  },
  {
   "cell_type": "code",
   "execution_count": 47,
   "metadata": {
    "colab": {
     "base_uri": "https://localhost:8080/",
     "height": 206
    },
    "id": "zzRz5UScGgQR",
    "outputId": "6c87c084-5cf8-4b7d-86d0-e83a348d5a62"
   },
   "outputs": [
    {
     "data": {
      "text/html": [
       "<div>\n",
       "<style scoped>\n",
       "    .dataframe tbody tr th:only-of-type {\n",
       "        vertical-align: middle;\n",
       "    }\n",
       "\n",
       "    .dataframe tbody tr th {\n",
       "        vertical-align: top;\n",
       "    }\n",
       "\n",
       "    .dataframe thead th {\n",
       "        text-align: right;\n",
       "    }\n",
       "</style>\n",
       "<table border=\"1\" class=\"dataframe\">\n",
       "  <thead>\n",
       "    <tr style=\"text-align: right;\">\n",
       "      <th></th>\n",
       "      <th>LDA</th>\n",
       "      <th>class</th>\n",
       "    </tr>\n",
       "  </thead>\n",
       "  <tbody>\n",
       "    <tr>\n",
       "      <th>0</th>\n",
       "      <td>8.061800</td>\n",
       "      <td>0</td>\n",
       "    </tr>\n",
       "    <tr>\n",
       "      <th>1</th>\n",
       "      <td>7.128688</td>\n",
       "      <td>0</td>\n",
       "    </tr>\n",
       "    <tr>\n",
       "      <th>2</th>\n",
       "      <td>7.489828</td>\n",
       "      <td>0</td>\n",
       "    </tr>\n",
       "    <tr>\n",
       "      <th>3</th>\n",
       "      <td>6.813201</td>\n",
       "      <td>0</td>\n",
       "    </tr>\n",
       "    <tr>\n",
       "      <th>4</th>\n",
       "      <td>8.132309</td>\n",
       "      <td>0</td>\n",
       "    </tr>\n",
       "  </tbody>\n",
       "</table>\n",
       "</div>"
      ],
      "text/plain": [
       "        LDA  class\n",
       "0  8.061800      0\n",
       "1  7.128688      0\n",
       "2  7.489828      0\n",
       "3  6.813201      0\n",
       "4  8.132309      0"
      ]
     },
     "execution_count": 47,
     "metadata": {},
     "output_type": "execute_result"
    }
   ],
   "source": [
    "data=pd.DataFrame(x_lda)\n",
    "data['class']=y\n",
    "data.columns=[\"LDA\",\"class\"]\n",
    "data.head()"
   ]
  },
  {
   "cell_type": "code",
   "execution_count": 48,
   "metadata": {
    "colab": {
     "base_uri": "https://localhost:8080/",
     "height": 369
    },
    "id": "vWU1NZBEGgQR",
    "outputId": "50b4790f-2df4-4d1e-ce42-e7895592eb94"
   },
   "outputs": [
    {
     "data": {
      "image/png": "[encoded data removed]",
      "text/plain": [
       "<Figure size 360x360 with 1 Axes>"
      ]
     },
     "metadata": {
      "needs_background": "light"
     },
     "output_type": "display_data"
    }
   ],
   "source": [
    "# markers = ['s', 'x','o']\n",
    "colors = ['r', 'g','b']\n",
    "sns.lmplot(x=\"LDA\", y=\"LDA\", data=data, hue='class',fit_reg=False,legend=False, palette=colors)\n",
    "plt.legend(labels=[\"setosa,\",\"versicolor\", \"virginica\"], loc='upper center')\n",
    "plt.show()"
   ]
  }
 ],
 "metadata": {
  "colab": {
   "collapsed_sections": [],
   "name": "LDA.ipynb",
   "provenance": []
  },
  "kernelspec": {
   "display_name": "Python 3 (ipykernel)",
   "language": "python",
   "name": "python3"
  },
  "language_info": {
   "codemirror_mode": {
    "name": "ipython",
    "version": 3
   },
   "file_extension": ".py",
   "mimetype": "text/x-python",
   "name": "python",
   "nbconvert_exporter": "python",
   "pygments_lexer": "ipython3",
   "version": "3.8.10"
  }
 },
 "nbformat": 4,
 "nbformat_minor": 1
}
